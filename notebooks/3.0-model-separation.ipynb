{
 "cells": [
  {
   "cell_type": "code",
   "execution_count": 1,
   "id": "1b2cbc4d",
   "metadata": {},
   "outputs": [
    {
     "name": "stdout",
     "output_type": "stream",
     "text": [
      "WARNING:tensorflow:From c:\\Users\\Gamebox\\Desktop\\2024_CambalS_Adaptive_continuous_environment_remote_sensing\\DPenv\\Lib\\site-packages\\keras\\src\\losses.py:2976: The name tf.losses.sparse_softmax_cross_entropy is deprecated. Please use tf.compat.v1.losses.sparse_softmax_cross_entropy instead.\n",
      "\n"
     ]
    }
   ],
   "source": [
    "import numpy as np\n",
    "import matplotlib.pyplot as plt\n",
    "import pandas as pd\n",
    "import seaborn as sns\n",
    "from sklearn.preprocessing import MinMaxScaler, StandardScaler\n",
    "from sklearn.metrics import mean_absolute_error, mean_absolute_percentage_error, mean_squared_error\n",
    "import sys\n",
    "import tensorflow as tf\n",
    "from tensorflow.keras import layers, Model\n",
    "\n",
    "sys.path.append('..')\n",
    "from src.data.make_dataset import make_dataset"
   ]
  },
  {
   "cell_type": "code",
   "execution_count": 2,
   "id": "b10f9bc5",
   "metadata": {},
   "outputs": [],
   "source": [
    "DATA_PATH = '../data/processed/EEA-SK-Ba-trend.csv'\n",
    "N_PAST = 48\n",
    "N_FUTURE = 1"
   ]
  },
  {
   "cell_type": "code",
   "execution_count": 3,
   "id": "9279273e",
   "metadata": {},
   "outputs": [],
   "source": [
    "df = pd.read_csv(DATA_PATH)\n",
    "# take only data until 2019 based on DatetimeBegin column\n",
    "df['DatetimeBegin'] = pd.to_datetime(df['DatetimeBegin'])\n",
    "df = df[df['DatetimeBegin'] < '2020-01-01']\n",
    "df = df[['PM10 Concentration', 'PM2.5 Concentration', 'NO2 Concentration']]"
   ]
  },
  {
   "cell_type": "code",
   "execution_count": 4,
   "id": "f2418bfd",
   "metadata": {},
   "outputs": [],
   "source": [
    "train_X, train_Y, val_X, val_Y, test_X = make_dataset(data_src=df, n_past=N_PAST, n_future=N_FUTURE)"
   ]
  },
  {
   "cell_type": "code",
   "execution_count": 5,
   "id": "547e1af1",
   "metadata": {},
   "outputs": [
    {
     "name": "stdout",
     "output_type": "stream",
     "text": [
      "Train set shape: (12214, 48, 3)         Train labels shape: (12214, 1, 3)\n",
      "Validation set shape: (2580, 48, 3)     Validation labels shape: (2580, 1, 3)\n",
      "Test set shape: (2580, 48, 3)\n"
     ]
    }
   ],
   "source": [
    "print(f'Train set shape: {train_X.shape}         Train labels shape: {train_Y.shape}')\n",
    "print(f'Validation set shape: {val_X.shape}     Validation labels shape: {val_Y.shape}')\n",
    "print(f'Test set shape: {test_X.shape}')"
   ]
  },
  {
   "cell_type": "code",
   "execution_count": 6,
   "id": "67cabbb8",
   "metadata": {},
   "outputs": [
    {
     "name": "stdout",
     "output_type": "stream",
     "text": [
      "PM10 & PM2.5\n",
      "Train set shape: (12214, 48, 2)         Train labels shape: (12214, 1, 2)\n",
      "Validation set shape: (2580, 48, 2)     Validation labels shape: (2580, 1, 2)\n",
      "Test set shape: (2580, 48, 2)\n",
      "\n",
      "NO2\n",
      "Train set shape: (12214, 48, 1)         Train labels shape: (12214, 1, 1)\n",
      "Validation set shape: (2580, 48, 1)     Validation labels shape: (2580, 1, 1)\n",
      "Test set shape: (2580, 48, 1)\n"
     ]
    }
   ],
   "source": [
    "train_X_PM10_PM25 = train_X[:, :, 0:2]\n",
    "train_Y_PM10_PM25 = train_Y[:, :, 0:2]\n",
    "val_X_PM10_PM25 = val_X[:, :, 0:2]\n",
    "val_Y_PM10_PM25 = val_Y[:, :, 0:2]\n",
    "test_X_PM10_PM25 = test_X[:, :, 0:2]\n",
    "train_X_NO2 = train_X[:, :, 2:3]\n",
    "train_Y_NO2 = train_Y[:, :, 2:3]\n",
    "val_X_NO2 = val_X[:, :, 2:3]\n",
    "val_Y_NO2 = val_Y[:, :, 2:3]\n",
    "test_X_NO2 = test_X[:, :, 2:3]\n",
    "\n",
    "print(f'PM10 & PM2.5\\nTrain set shape: {train_X_PM10_PM25.shape}         Train labels shape: {train_Y_PM10_PM25.shape}')\n",
    "print(f'Validation set shape: {val_X_PM10_PM25.shape}     Validation labels shape: {val_Y_PM10_PM25.shape}')\n",
    "print(f'Test set shape: {test_X_PM10_PM25.shape}')\n",
    "print(f'\\nNO2\\nTrain set shape: {train_X_NO2.shape}         Train labels shape: {train_Y_NO2.shape}')\n",
    "print(f'Validation set shape: {val_X_NO2.shape}     Validation labels shape: {val_Y_NO2.shape}')\n",
    "print(f'Test set shape: {test_X_NO2.shape}')"
   ]
  },
  {
   "cell_type": "code",
   "execution_count": null,
   "id": "36afc74c",
   "metadata": {},
   "outputs": [],
   "source": [
    "in_scaler = StandardScaler()\n",
    "out_scaler = StandardScaler()\n",
    "\n",
    "train_X = train_X.reshape(-1, train_X.shape[-1])\n",
    "train_X = in_scaler.fit_transform(train_X)\n",
    "train_X = train_X.reshape(-1, N_PAST, train_X.shape[-1])\n",
    "\n",
    "train_Y = train_Y.reshape(-1, train_Y.shape[-1])\n",
    "train_Y = out_scaler.fit_transform(train_Y)\n",
    "train_Y = train_Y.reshape(-1, N_FUTURE, train_Y.shape[-1])\n",
    "\n",
    "val_X = val_X.reshape(-1, val_X.shape[-1])\n",
    "val_X = in_scaler.transform(val_X)\n",
    "val_X = val_X.reshape(-1, N_PAST, val_X.shape[-1])\n",
    "\n",
    "val_Y = val_Y.reshape(-1, val_Y.shape[-1])\n",
    "val_Y = out_scaler.transform(val_Y)\n",
    "val_Y = val_Y.reshape(-1, N_FUTURE, val_Y.shape[-1])\n",
    "\n",
    "real_values = test_X.copy()[:, -1, :]\n",
    "test_X = test_X.reshape(-1, test_X.shape[-1])\n",
    "test_X = in_scaler.transform(test_X)\n",
    "test_X = test_X.reshape(-1, N_PAST, test_X.shape[-1])"
   ]
  },
  {
   "cell_type": "code",
   "execution_count": null,
   "id": "a09a92ff",
   "metadata": {},
   "outputs": [],
   "source": [
    "print(f'Train set shape: {train_X.shape}         Train labels shape: {train_Y.shape}')\n",
    "print(f'Validation set shape: {val_X.shape}     Validation labels shape: {val_Y.shape}')\n",
    "print(f'Test set shape: {test_X.shape}')"
   ]
  }
 ],
 "metadata": {
  "kernelspec": {
   "display_name": "DPenv",
   "language": "python",
   "name": "python3"
  },
  "language_info": {
   "codemirror_mode": {
    "name": "ipython",
    "version": 3
   },
   "file_extension": ".py",
   "mimetype": "text/x-python",
   "name": "python",
   "nbconvert_exporter": "python",
   "pygments_lexer": "ipython3",
   "version": "3.11.0"
  }
 },
 "nbformat": 4,
 "nbformat_minor": 5
}
